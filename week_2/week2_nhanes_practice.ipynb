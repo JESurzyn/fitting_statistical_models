{
 "cells": [
  {
   "cell_type": "markdown",
   "metadata": {},
   "source": [
    "# Practice notebook for regression analysis with NHANES\n",
    "\n",
    "This notebook will give you the opportunity to perform some\n",
    "regression analyses with the NHANES data that are similar to\n",
    "the analyses done in the week 2 case study notebook.\n",
    "\n",
    "You can enter your code into the cells that say \"enter your code here\",\n",
    "and you can type responses to the questions into the cells that say \"Type Markdown and Latex\".\n",
    "\n",
    "Note that most of the code that you will need to write below is very similar\n",
    "to code that appears in the case study notebook.  You will need\n",
    "to edit code from that notebook in small ways to adapt it to the\n",
    "prompts below.\n",
    "\n",
    "To get started, we will use the same module imports and\n",
    "read the data in the same way as we did in the case study:"
   ]
  },
  {
   "cell_type": "code",
   "execution_count": 1,
   "metadata": {},
   "outputs": [],
   "source": [
    "%matplotlib inline\n",
    "import matplotlib.pyplot as plt\n",
    "import seaborn as sns\n",
    "import pandas as pd\n",
    "import statsmodels.api as sm\n",
    "import numpy as np\n",
    "\n",
    "url = \"https://raw.githubusercontent.com/kshedden/statswpy/master/NHANES/merged/nhanes_2015_2016.csv\"\n",
    "da = pd.read_csv(url)\n",
    "\n",
    "# Drop unused columns, drop rows with any missing values.\n",
    "vars = [\"BPXSY1\", \"RIDAGEYR\", \"RIAGENDR\", \"RIDRETH1\", \"DMDEDUC2\", \"BMXBMI\", \"SMQ020\"]\n",
    "da = da[vars].dropna()"
   ]
  },
  {
   "cell_type": "markdown",
   "metadata": {},
   "source": [
    "## Question 1:\n",
    "\n",
    "Use linear regression to relate the expected body mass index (BMI) to a person's age."
   ]
  },
  {
   "cell_type": "code",
   "execution_count": 4,
   "metadata": {},
   "outputs": [
    {
     "data": {
      "text/html": [
       "<table class=\"simpletable\">\n",
       "<caption>OLS Regression Results</caption>\n",
       "<tr>\n",
       "  <th>Dep. Variable:</th>         <td>BMXBMI</td>      <th>  R-squared:         </th> <td>   0.001</td> \n",
       "</tr>\n",
       "<tr>\n",
       "  <th>Model:</th>                   <td>OLS</td>       <th>  Adj. R-squared:    </th> <td>   0.000</td> \n",
       "</tr>\n",
       "<tr>\n",
       "  <th>Method:</th>             <td>Least Squares</td>  <th>  F-statistic:       </th> <td>   2.720</td> \n",
       "</tr>\n",
       "<tr>\n",
       "  <th>Date:</th>             <td>Wed, 07 Oct 2020</td> <th>  Prob (F-statistic):</th>  <td>0.0991</td>  \n",
       "</tr>\n",
       "<tr>\n",
       "  <th>Time:</th>                 <td>10:29:13</td>     <th>  Log-Likelihood:    </th> <td> -17149.</td> \n",
       "</tr>\n",
       "<tr>\n",
       "  <th>No. Observations:</th>      <td>  5102</td>      <th>  AIC:               </th> <td>3.430e+04</td>\n",
       "</tr>\n",
       "<tr>\n",
       "  <th>Df Residuals:</th>          <td>  5100</td>      <th>  BIC:               </th> <td>3.432e+04</td>\n",
       "</tr>\n",
       "<tr>\n",
       "  <th>Df Model:</th>              <td>     1</td>      <th>                     </th>     <td> </td>    \n",
       "</tr>\n",
       "<tr>\n",
       "  <th>Covariance Type:</th>      <td>nonrobust</td>    <th>                     </th>     <td> </td>    \n",
       "</tr>\n",
       "</table>\n",
       "<table class=\"simpletable\">\n",
       "<tr>\n",
       "      <td></td>         <th>coef</th>     <th>std err</th>      <th>t</th>      <th>P>|t|</th>  <th>[0.025</th>    <th>0.975]</th>  \n",
       "</tr>\n",
       "<tr>\n",
       "  <th>Intercept</th> <td>   29.0564</td> <td>    0.290</td> <td>  100.143</td> <td> 0.000</td> <td>   28.488</td> <td>   29.625</td>\n",
       "</tr>\n",
       "<tr>\n",
       "  <th>RIDAGEYR</th>  <td>    0.0091</td> <td>    0.006</td> <td>    1.649</td> <td> 0.099</td> <td>   -0.002</td> <td>    0.020</td>\n",
       "</tr>\n",
       "</table>\n",
       "<table class=\"simpletable\">\n",
       "<tr>\n",
       "  <th>Omnibus:</th>       <td>936.202</td> <th>  Durbin-Watson:     </th> <td>   2.009</td>\n",
       "</tr>\n",
       "<tr>\n",
       "  <th>Prob(Omnibus):</th> <td> 0.000</td>  <th>  Jarque-Bera (JB):  </th> <td>1857.656</td>\n",
       "</tr>\n",
       "<tr>\n",
       "  <th>Skew:</th>          <td> 1.105</td>  <th>  Prob(JB):          </th> <td>    0.00</td>\n",
       "</tr>\n",
       "<tr>\n",
       "  <th>Kurtosis:</th>      <td> 4.964</td>  <th>  Cond. No.          </th> <td>    156.</td>\n",
       "</tr>\n",
       "</table><br/><br/>Warnings:<br/>[1] Standard Errors assume that the covariance matrix of the errors is correctly specified."
      ],
      "text/plain": [
       "<class 'statsmodels.iolib.summary.Summary'>\n",
       "\"\"\"\n",
       "                            OLS Regression Results                            \n",
       "==============================================================================\n",
       "Dep. Variable:                 BMXBMI   R-squared:                       0.001\n",
       "Model:                            OLS   Adj. R-squared:                  0.000\n",
       "Method:                 Least Squares   F-statistic:                     2.720\n",
       "Date:                Wed, 07 Oct 2020   Prob (F-statistic):             0.0991\n",
       "Time:                        10:29:13   Log-Likelihood:                -17149.\n",
       "No. Observations:                5102   AIC:                         3.430e+04\n",
       "Df Residuals:                    5100   BIC:                         3.432e+04\n",
       "Df Model:                           1                                         \n",
       "Covariance Type:            nonrobust                                         \n",
       "==============================================================================\n",
       "                 coef    std err          t      P>|t|      [0.025      0.975]\n",
       "------------------------------------------------------------------------------\n",
       "Intercept     29.0564      0.290    100.143      0.000      28.488      29.625\n",
       "RIDAGEYR       0.0091      0.006      1.649      0.099      -0.002       0.020\n",
       "==============================================================================\n",
       "Omnibus:                      936.202   Durbin-Watson:                   2.009\n",
       "Prob(Omnibus):                  0.000   Jarque-Bera (JB):             1857.656\n",
       "Skew:                           1.105   Prob(JB):                         0.00\n",
       "Kurtosis:                       4.964   Cond. No.                         156.\n",
       "==============================================================================\n",
       "\n",
       "Warnings:\n",
       "[1] Standard Errors assume that the covariance matrix of the errors is correctly specified.\n",
       "\"\"\""
      ]
     },
     "execution_count": 4,
     "metadata": {},
     "output_type": "execute_result"
    }
   ],
   "source": [
    "# enter your code here\n",
    "model = sm.OLS.from_formula(\"BMXBMI~RIDAGEYR\", data = da)\n",
    "result = model.fit()\n",
    "result.summary()"
   ]
  },
  {
   "cell_type": "markdown",
   "metadata": {},
   "source": [
    "__Q1a.__ According to your fitted model, do older people tend to have higher or lower BMI than younger people?"
   ]
  },
  {
   "cell_type": "markdown",
   "metadata": {},
   "source": [
    "higher"
   ]
  },
  {
   "cell_type": "markdown",
   "metadata": {},
   "source": [
    "__Q1b.__ Based your analysis, are you confident that there is a relationship between BMI and age in the population that NHANES represents?"
   ]
  },
  {
   "cell_type": "markdown",
   "metadata": {},
   "source": [
    "there could be a one-way positive relationship, but its so close that I'm not confident"
   ]
  },
  {
   "cell_type": "markdown",
   "metadata": {},
   "source": [
    "__Q1c.__ By how much does the average BMI of a 40 year old differ from the average BMI of a 20 year old?"
   ]
  },
  {
   "cell_type": "code",
   "execution_count": 13,
   "metadata": {},
   "outputs": [
    {
     "data": {
      "text/plain": [
       "0.18223686491652596"
      ]
     },
     "execution_count": 13,
     "metadata": {},
     "output_type": "execute_result"
    }
   ],
   "source": [
    "y = result.params[1]*20\n",
    "y"
   ]
  },
  {
   "cell_type": "markdown",
   "metadata": {},
   "source": [
    "by about 0.18 BMI points more"
   ]
  },
  {
   "cell_type": "markdown",
   "metadata": {},
   "source": [
    "__Q1d.__ What fraction of the variation of BMI in this population is explained by age?"
   ]
  },
  {
   "cell_type": "markdown",
   "metadata": {},
   "source": [
    "0.001 or 0.1%"
   ]
  },
  {
   "cell_type": "markdown",
   "metadata": {},
   "source": [
    "## Question 2: \n",
    "\n",
    "Add gender and ethnicity as additional control variables to your linear model relating BMI to age.  You will need to recode the ethnic groups based\n",
    "on the values in the codebook entry for [RIDRETH1](https://wwwn.cdc.gov/Nchs/Nhanes/2015-2016/DEMO_I.htm#RIDRETH1)."
   ]
  },
  {
   "cell_type": "code",
   "execution_count": 15,
   "metadata": {},
   "outputs": [
    {
     "data": {
      "text/html": [
       "<table class=\"simpletable\">\n",
       "<caption>OLS Regression Results</caption>\n",
       "<tr>\n",
       "  <th>Dep. Variable:</th>         <td>BMXBMI</td>      <th>  R-squared:         </th> <td>   0.055</td> \n",
       "</tr>\n",
       "<tr>\n",
       "  <th>Model:</th>                   <td>OLS</td>       <th>  Adj. R-squared:    </th> <td>   0.054</td> \n",
       "</tr>\n",
       "<tr>\n",
       "  <th>Method:</th>             <td>Least Squares</td>  <th>  F-statistic:       </th> <td>   49.27</td> \n",
       "</tr>\n",
       "<tr>\n",
       "  <th>Date:</th>             <td>Wed, 07 Oct 2020</td> <th>  Prob (F-statistic):</th> <td>3.98e-59</td> \n",
       "</tr>\n",
       "<tr>\n",
       "  <th>Time:</th>                 <td>10:47:20</td>     <th>  Log-Likelihood:    </th> <td> -17007.</td> \n",
       "</tr>\n",
       "<tr>\n",
       "  <th>No. Observations:</th>      <td>  5102</td>      <th>  AIC:               </th> <td>3.403e+04</td>\n",
       "</tr>\n",
       "<tr>\n",
       "  <th>Df Residuals:</th>          <td>  5095</td>      <th>  BIC:               </th> <td>3.407e+04</td>\n",
       "</tr>\n",
       "<tr>\n",
       "  <th>Df Model:</th>              <td>     6</td>      <th>                     </th>     <td> </td>    \n",
       "</tr>\n",
       "<tr>\n",
       "  <th>Covariance Type:</th>      <td>nonrobust</td>    <th>                     </th>     <td> </td>    \n",
       "</tr>\n",
       "</table>\n",
       "<table class=\"simpletable\">\n",
       "<tr>\n",
       "             <td></td>               <th>coef</th>     <th>std err</th>      <th>t</th>      <th>P>|t|</th>  <th>[0.025</th>    <th>0.975]</th>  \n",
       "</tr>\n",
       "<tr>\n",
       "  <th>Intercept</th>              <td>   30.7862</td> <td>    0.346</td> <td>   89.041</td> <td> 0.000</td> <td>   30.108</td> <td>   31.464</td>\n",
       "</tr>\n",
       "<tr>\n",
       "  <th>RIDRETH1x[T.MexAmer]</th>   <td>    0.4499</td> <td>    0.308</td> <td>    1.460</td> <td> 0.144</td> <td>   -0.154</td> <td>    1.054</td>\n",
       "</tr>\n",
       "<tr>\n",
       "  <th>RIDRETH1x[T.Other]</th>     <td>   -4.3299</td> <td>    0.322</td> <td>  -13.452</td> <td> 0.000</td> <td>   -4.961</td> <td>   -3.699</td>\n",
       "</tr>\n",
       "<tr>\n",
       "  <th>RIDRETH1x[T.OtherHisp]</th> <td>   -0.4879</td> <td>    0.333</td> <td>   -1.465</td> <td> 0.143</td> <td>   -1.141</td> <td>    0.165</td>\n",
       "</tr>\n",
       "<tr>\n",
       "  <th>RIDRETH1x[T.White]</th>     <td>   -1.4055</td> <td>    0.267</td> <td>   -5.262</td> <td> 0.000</td> <td>   -1.929</td> <td>   -0.882</td>\n",
       "</tr>\n",
       "<tr>\n",
       "  <th>RIAGENDRx[T.Male]</th>      <td>   -1.0226</td> <td>    0.190</td> <td>   -5.370</td> <td> 0.000</td> <td>   -1.396</td> <td>   -0.649</td>\n",
       "</tr>\n",
       "<tr>\n",
       "  <th>RIDAGEYR</th>               <td>    0.0065</td> <td>    0.005</td> <td>    1.196</td> <td> 0.232</td> <td>   -0.004</td> <td>    0.017</td>\n",
       "</tr>\n",
       "</table>\n",
       "<table class=\"simpletable\">\n",
       "<tr>\n",
       "  <th>Omnibus:</th>       <td>917.090</td> <th>  Durbin-Watson:     </th> <td>   2.006</td>\n",
       "</tr>\n",
       "<tr>\n",
       "  <th>Prob(Omnibus):</th> <td> 0.000</td>  <th>  Jarque-Bera (JB):  </th> <td>1855.286</td>\n",
       "</tr>\n",
       "<tr>\n",
       "  <th>Skew:</th>          <td> 1.075</td>  <th>  Prob(JB):          </th> <td>    0.00</td>\n",
       "</tr>\n",
       "<tr>\n",
       "  <th>Kurtosis:</th>      <td> 5.026</td>  <th>  Cond. No.          </th> <td>    289.</td>\n",
       "</tr>\n",
       "</table><br/><br/>Warnings:<br/>[1] Standard Errors assume that the covariance matrix of the errors is correctly specified."
      ],
      "text/plain": [
       "<class 'statsmodels.iolib.summary.Summary'>\n",
       "\"\"\"\n",
       "                            OLS Regression Results                            \n",
       "==============================================================================\n",
       "Dep. Variable:                 BMXBMI   R-squared:                       0.055\n",
       "Model:                            OLS   Adj. R-squared:                  0.054\n",
       "Method:                 Least Squares   F-statistic:                     49.27\n",
       "Date:                Wed, 07 Oct 2020   Prob (F-statistic):           3.98e-59\n",
       "Time:                        10:47:20   Log-Likelihood:                -17007.\n",
       "No. Observations:                5102   AIC:                         3.403e+04\n",
       "Df Residuals:                    5095   BIC:                         3.407e+04\n",
       "Df Model:                           6                                         \n",
       "Covariance Type:            nonrobust                                         \n",
       "==========================================================================================\n",
       "                             coef    std err          t      P>|t|      [0.025      0.975]\n",
       "------------------------------------------------------------------------------------------\n",
       "Intercept                 30.7862      0.346     89.041      0.000      30.108      31.464\n",
       "RIDRETH1x[T.MexAmer]       0.4499      0.308      1.460      0.144      -0.154       1.054\n",
       "RIDRETH1x[T.Other]        -4.3299      0.322    -13.452      0.000      -4.961      -3.699\n",
       "RIDRETH1x[T.OtherHisp]    -0.4879      0.333     -1.465      0.143      -1.141       0.165\n",
       "RIDRETH1x[T.White]        -1.4055      0.267     -5.262      0.000      -1.929      -0.882\n",
       "RIAGENDRx[T.Male]         -1.0226      0.190     -5.370      0.000      -1.396      -0.649\n",
       "RIDAGEYR                   0.0065      0.005      1.196      0.232      -0.004       0.017\n",
       "==============================================================================\n",
       "Omnibus:                      917.090   Durbin-Watson:                   2.006\n",
       "Prob(Omnibus):                  0.000   Jarque-Bera (JB):             1855.286\n",
       "Skew:                           1.075   Prob(JB):                         0.00\n",
       "Kurtosis:                       5.026   Cond. No.                         289.\n",
       "==============================================================================\n",
       "\n",
       "Warnings:\n",
       "[1] Standard Errors assume that the covariance matrix of the errors is correctly specified.\n",
       "\"\"\""
      ]
     },
     "execution_count": 15,
     "metadata": {},
     "output_type": "execute_result"
    }
   ],
   "source": [
    "# enter your code here\n",
    "#recodeing ethnic groups\n",
    "da['RIDRETH1x'] = da.RIDRETH1.replace({1:'MexAmer', 2:\"OtherHisp\",\n",
    "                                      3:\"White\", 4:\"Black\", 5:'Other'})\n",
    "da['RIAGENDRx'] = da.RIAGENDR.replace({1:'Male', 2:\"Female\"})\n",
    "\n",
    "model2= sm.OLS.from_formula('BMXBMI ~ RIDAGEYR + RIDRETH1x + RIAGENDRx', data=da)\n",
    "result2=model2.fit()\n",
    "result2.summary()"
   ]
  },
  {
   "cell_type": "markdown",
   "metadata": {},
   "source": [
    "__Q2a.__ How did the mean relationship between BMI and age change when you added additional covariates to the model?"
   ]
  },
  {
   "cell_type": "markdown",
   "metadata": {},
   "source": [
    "the coefficient went down and the p-value went up, making us less confident of a relationship"
   ]
  },
  {
   "cell_type": "markdown",
   "metadata": {},
   "source": [
    "__Q2b.__ How did the standard error for the regression parameter for age change when you added additional covariates to the model?"
   ]
  },
  {
   "cell_type": "markdown",
   "metadata": {},
   "source": [
    "the standard error went down"
   ]
  },
  {
   "cell_type": "markdown",
   "metadata": {},
   "source": [
    "__Q2c.__ How much additional variation in BMI is explained by age, gender, and ethnicity that is not explained by age alone?"
   ]
  },
  {
   "cell_type": "code",
   "execution_count": 16,
   "metadata": {},
   "outputs": [
    {
     "data": {
      "text/plain": [
       "0.05430315045104106"
      ]
     },
     "execution_count": 16,
     "metadata": {},
     "output_type": "execute_result"
    }
   ],
   "source": [
    "result2.rsquared-result.rsquared"
   ]
  },
  {
   "cell_type": "markdown",
   "metadata": {},
   "source": [
    "the R-squared increased by 0.054 or 5.4 percentage points"
   ]
  },
  {
   "cell_type": "markdown",
   "metadata": {},
   "source": [
    "__Q2d.__ What reference level did the software select for the ethnicity variable?"
   ]
  },
  {
   "cell_type": "markdown",
   "metadata": {},
   "source": [
    "Black"
   ]
  },
  {
   "cell_type": "markdown",
   "metadata": {},
   "source": [
    "__Q2e.__ What is the expected difference between the BMI of a 40 year-old non-Hispanic black man and a 30 year-old non-Hispanic black man?"
   ]
  },
  {
   "cell_type": "code",
   "execution_count": 18,
   "metadata": {},
   "outputs": [
    {
     "data": {
      "text/plain": [
       "0.06495712926277578"
      ]
     },
     "execution_count": 18,
     "metadata": {},
     "output_type": "execute_result"
    }
   ],
   "source": [
    "y = result2.params[6]*10\n",
    "y"
   ]
  },
  {
   "cell_type": "markdown",
   "metadata": {},
   "source": [
    "__Q2f.__ What is the expected difference between the BMI of a 50 year-old Mexican American woman and a 50 year-old non-Hispanic black man?"
   ]
  },
  {
   "cell_type": "code",
   "execution_count": 19,
   "metadata": {},
   "outputs": [
    {
     "data": {
      "text/plain": [
       "1.4725593880908088"
      ]
     },
     "execution_count": 19,
     "metadata": {},
     "output_type": "execute_result"
    }
   ],
   "source": [
    "y = result2.params[1]*1\n",
    "y2 = result2.params[5]*1\n",
    "y-y2"
   ]
  },
  {
   "cell_type": "markdown",
   "metadata": {},
   "source": [
    "## Question 3: \n",
    "\n",
    "Randomly sample 25% of the NHANES data, then fit the same model you used in question 2 to this data set."
   ]
  },
  {
   "cell_type": "code",
   "execution_count": 20,
   "metadata": {},
   "outputs": [
    {
     "data": {
      "text/html": [
       "<table class=\"simpletable\">\n",
       "<caption>OLS Regression Results</caption>\n",
       "<tr>\n",
       "  <th>Dep. Variable:</th>         <td>BMXBMI</td>      <th>  R-squared:         </th> <td>   0.049</td>\n",
       "</tr>\n",
       "<tr>\n",
       "  <th>Model:</th>                   <td>OLS</td>       <th>  Adj. R-squared:    </th> <td>   0.044</td>\n",
       "</tr>\n",
       "<tr>\n",
       "  <th>Method:</th>             <td>Least Squares</td>  <th>  F-statistic:       </th> <td>   10.81</td>\n",
       "</tr>\n",
       "<tr>\n",
       "  <th>Date:</th>             <td>Wed, 07 Oct 2020</td> <th>  Prob (F-statistic):</th> <td>9.42e-12</td>\n",
       "</tr>\n",
       "<tr>\n",
       "  <th>Time:</th>                 <td>11:21:36</td>     <th>  Log-Likelihood:    </th> <td> -4296.2</td>\n",
       "</tr>\n",
       "<tr>\n",
       "  <th>No. Observations:</th>      <td>  1276</td>      <th>  AIC:               </th> <td>   8606.</td>\n",
       "</tr>\n",
       "<tr>\n",
       "  <th>Df Residuals:</th>          <td>  1269</td>      <th>  BIC:               </th> <td>   8642.</td>\n",
       "</tr>\n",
       "<tr>\n",
       "  <th>Df Model:</th>              <td>     6</td>      <th>                     </th>     <td> </td>   \n",
       "</tr>\n",
       "<tr>\n",
       "  <th>Covariance Type:</th>      <td>nonrobust</td>    <th>                     </th>     <td> </td>   \n",
       "</tr>\n",
       "</table>\n",
       "<table class=\"simpletable\">\n",
       "<tr>\n",
       "             <td></td>               <th>coef</th>     <th>std err</th>      <th>t</th>      <th>P>|t|</th>  <th>[0.025</th>    <th>0.975]</th>  \n",
       "</tr>\n",
       "<tr>\n",
       "  <th>Intercept</th>              <td>   30.9197</td> <td>    0.722</td> <td>   42.819</td> <td> 0.000</td> <td>   29.503</td> <td>   32.336</td>\n",
       "</tr>\n",
       "<tr>\n",
       "  <th>RIDRETH1x[T.MexAmer]</th>   <td>    1.5516</td> <td>    0.649</td> <td>    2.392</td> <td> 0.017</td> <td>    0.279</td> <td>    2.824</td>\n",
       "</tr>\n",
       "<tr>\n",
       "  <th>RIDRETH1x[T.Other]</th>     <td>   -3.5450</td> <td>    0.688</td> <td>   -5.154</td> <td> 0.000</td> <td>   -4.894</td> <td>   -2.196</td>\n",
       "</tr>\n",
       "<tr>\n",
       "  <th>RIDRETH1x[T.OtherHisp]</th> <td>    0.0916</td> <td>    0.685</td> <td>    0.134</td> <td> 0.894</td> <td>   -1.252</td> <td>    1.435</td>\n",
       "</tr>\n",
       "<tr>\n",
       "  <th>RIDRETH1x[T.White]</th>     <td>   -1.1536</td> <td>    0.563</td> <td>   -2.047</td> <td> 0.041</td> <td>   -2.259</td> <td>   -0.048</td>\n",
       "</tr>\n",
       "<tr>\n",
       "  <th>RIAGENDRx[T.Male]</th>      <td>   -0.8286</td> <td>    0.395</td> <td>   -2.099</td> <td> 0.036</td> <td>   -1.603</td> <td>   -0.054</td>\n",
       "</tr>\n",
       "<tr>\n",
       "  <th>RIDAGEYR</th>               <td>   -0.0011</td> <td>    0.011</td> <td>   -0.093</td> <td> 0.926</td> <td>   -0.023</td> <td>    0.021</td>\n",
       "</tr>\n",
       "</table>\n",
       "<table class=\"simpletable\">\n",
       "<tr>\n",
       "  <th>Omnibus:</th>       <td>223.628</td> <th>  Durbin-Watson:     </th> <td>   2.017</td>\n",
       "</tr>\n",
       "<tr>\n",
       "  <th>Prob(Omnibus):</th> <td> 0.000</td>  <th>  Jarque-Bera (JB):  </th> <td> 412.003</td>\n",
       "</tr>\n",
       "<tr>\n",
       "  <th>Skew:</th>          <td> 1.065</td>  <th>  Prob(JB):          </th> <td>3.42e-90</td>\n",
       "</tr>\n",
       "<tr>\n",
       "  <th>Kurtosis:</th>      <td> 4.792</td>  <th>  Cond. No.          </th> <td>    296.</td>\n",
       "</tr>\n",
       "</table><br/><br/>Warnings:<br/>[1] Standard Errors assume that the covariance matrix of the errors is correctly specified."
      ],
      "text/plain": [
       "<class 'statsmodels.iolib.summary.Summary'>\n",
       "\"\"\"\n",
       "                            OLS Regression Results                            \n",
       "==============================================================================\n",
       "Dep. Variable:                 BMXBMI   R-squared:                       0.049\n",
       "Model:                            OLS   Adj. R-squared:                  0.044\n",
       "Method:                 Least Squares   F-statistic:                     10.81\n",
       "Date:                Wed, 07 Oct 2020   Prob (F-statistic):           9.42e-12\n",
       "Time:                        11:21:36   Log-Likelihood:                -4296.2\n",
       "No. Observations:                1276   AIC:                             8606.\n",
       "Df Residuals:                    1269   BIC:                             8642.\n",
       "Df Model:                           6                                         \n",
       "Covariance Type:            nonrobust                                         \n",
       "==========================================================================================\n",
       "                             coef    std err          t      P>|t|      [0.025      0.975]\n",
       "------------------------------------------------------------------------------------------\n",
       "Intercept                 30.9197      0.722     42.819      0.000      29.503      32.336\n",
       "RIDRETH1x[T.MexAmer]       1.5516      0.649      2.392      0.017       0.279       2.824\n",
       "RIDRETH1x[T.Other]        -3.5450      0.688     -5.154      0.000      -4.894      -2.196\n",
       "RIDRETH1x[T.OtherHisp]     0.0916      0.685      0.134      0.894      -1.252       1.435\n",
       "RIDRETH1x[T.White]        -1.1536      0.563     -2.047      0.041      -2.259      -0.048\n",
       "RIAGENDRx[T.Male]         -0.8286      0.395     -2.099      0.036      -1.603      -0.054\n",
       "RIDAGEYR                  -0.0011      0.011     -0.093      0.926      -0.023       0.021\n",
       "==============================================================================\n",
       "Omnibus:                      223.628   Durbin-Watson:                   2.017\n",
       "Prob(Omnibus):                  0.000   Jarque-Bera (JB):              412.003\n",
       "Skew:                           1.065   Prob(JB):                     3.42e-90\n",
       "Kurtosis:                       4.792   Cond. No.                         296.\n",
       "==============================================================================\n",
       "\n",
       "Warnings:\n",
       "[1] Standard Errors assume that the covariance matrix of the errors is correctly specified.\n",
       "\"\"\""
      ]
     },
     "execution_count": 20,
     "metadata": {},
     "output_type": "execute_result"
    }
   ],
   "source": [
    "# enter your code here\n",
    "da25 = da.sample(frac=0.25)\n",
    "model3= sm.OLS.from_formula('BMXBMI ~ RIDAGEYR + RIDRETH1x + RIAGENDRx', data=da25)\n",
    "result3=model3.fit()\n",
    "result3.summary()"
   ]
  },
  {
   "cell_type": "markdown",
   "metadata": {},
   "source": [
    "__Q3a.__ How do the estimated regression coefficients and their standard errors compare between these two models?  Do you see any systematic relationship between the two sets of results?"
   ]
  },
  {
   "cell_type": "markdown",
   "metadata": {},
   "source": [
    "intercept: coef slight __increase__, std error __increase__\n",
    "mexamer: coef __increase__, std error __increase__\n",
    "other: coef __increase__, std error __increase__\n",
    "otherHis: coef __increase__ directional change, std error __increase__\n",
    "white : coef __increasee__ , std error __increase__\n",
    "male: coef __increase__, std error __increase__\n",
    "age: coef _decrease_ , std error __increase__\n",
    "\n",
    "for the most part they all increased"
   ]
  },
  {
   "cell_type": "markdown",
   "metadata": {},
   "source": [
    "## Question 4:\n",
    "\n",
    "Generate a scatterplot of the residuals against the fitted values for the model you fit in question 2."
   ]
  },
  {
   "cell_type": "code",
   "execution_count": 22,
   "metadata": {},
   "outputs": [
    {
     "name": "stderr",
     "output_type": "stream",
     "text": [
      "/home/jordan/anaconda3/lib/python3.8/site-packages/seaborn/_decorators.py:36: FutureWarning: Pass the following variables as keyword args: x, y. From version 0.12, the only valid positional argument will be `data`, and passing other arguments without an explicit keyword will result in an error or misinterpretation.\n",
      "  warnings.warn(\n"
     ]
    },
    {
     "data": {
      "text/plain": [
       "Text(0, 0.5, 'residuals')"
      ]
     },
     "execution_count": 22,
     "metadata": {},
     "output_type": "execute_result"
    },
    {
     "data": {
      "image/png": "[encoded data removed]",
      "text/plain": [
       "<Figure size 432x288 with 1 Axes>"
      ]
     },
     "metadata": {
      "needs_background": "light"
     },
     "output_type": "display_data"
    }
   ],
   "source": [
    "# enter your code here\n",
    "pp = sns.scatterplot(result2.fittedvalues, result2.resid)\n",
    "pp.set_xlabel('fitted values')\n",
    "pp.set_ylabel('residuals')"
   ]
  },
  {
   "cell_type": "markdown",
   "metadata": {},
   "source": [
    "__Q4a.__ What mean/variance relationship do you see?"
   ]
  },
  {
   "cell_type": "markdown",
   "metadata": {},
   "source": [
    "variance tends to increase as BMI goes up"
   ]
  },
  {
   "cell_type": "markdown",
   "metadata": {},
   "source": [
    "## Question 5: \n",
    "\n",
    "Generate a plot showing the fitted mean BMI as a function of age for Mexican American men.  Include a 95% simultaneous confidence band on your graph."
   ]
  },
  {
   "cell_type": "code",
   "execution_count": 25,
   "metadata": {},
   "outputs": [
    {
     "data": {
      "text/plain": [
       "125.62681301450412"
      ]
     },
     "execution_count": 25,
     "metadata": {},
     "output_type": "execute_result"
    }
   ],
   "source": [
    "da.BPXSY1.mean()"
   ]
  },
  {
   "cell_type": "code",
   "execution_count": 28,
   "metadata": {},
   "outputs": [
    {
     "name": "stderr",
     "output_type": "stream",
     "text": [
      "/home/jordan/anaconda3/lib/python3.8/site-packages/seaborn/_decorators.py:36: FutureWarning: Pass the following variables as keyword args: x, y. From version 0.12, the only valid positional argument will be `data`, and passing other arguments without an explicit keyword will result in an error or misinterpretation.\n",
      "  warnings.warn(\n",
      "/home/jordan/anaconda3/lib/python3.8/site-packages/seaborn/_decorators.py:36: FutureWarning: Pass the following variables as keyword args: x, y. From version 0.12, the only valid positional argument will be `data`, and passing other arguments without an explicit keyword will result in an error or misinterpretation.\n",
      "  warnings.warn(\n"
     ]
    },
    {
     "data": {
      "text/plain": [
       "<matplotlib.collections.PolyCollection at 0x7ff4cba9afa0>"
      ]
     },
     "execution_count": 28,
     "metadata": {},
     "output_type": "execute_result"
    },
    {
     "data": {
      "image/png": "[encoded data removed]",
      "text/plain": [
       "<Figure size 432x288 with 1 Axes>"
      ]
     },
     "metadata": {
      "needs_background": "light"
     },
     "output_type": "display_data"
    }
   ],
   "source": [
    "# enter your code here\n",
    "from statsmodels.sandbox.predict_functional import predict_functional\n",
    "\n",
    "# Fix certain variables at reference values.  Not all of these\n",
    "# variables are used here, but we provide them with a value anyway\n",
    "# to prevent a warning message from appearing.\n",
    "values = {\"RIAGENDRx\": \"Male\", \"RIAGENDR\": 1, 'BPXSY1':125.63,\n",
    "          \"DMDEDUC2\": 1, \"RIDRETH1\": 1, \"RIDRETH1x\": 'MexAmer',\n",
    "          \"SMQ020\": 1}\n",
    "\n",
    "# The returned values are the predicted values (pr), the confidence bands (cb),\n",
    "# and the function values (fv).\n",
    "pr, cb, fv = predict_functional(result2, \"RIDAGEYR\",\n",
    "                values=values, ci_method=\"simultaneous\")\n",
    "\n",
    "ax = sns.lineplot(fv, pr, lw=4)\n",
    "ax.fill_between(fv, cb[:, 0], cb[:, 1], color='grey', alpha=0.4)\n",
    "ax.set_xlabel(\"Age\")\n",
    "_ = ax.set_ylabel(\"BMI\")\n",
    "\n",
    "values2 = {\"RIAGENDRx\": \"Female\", \"RIAGENDR\":2, 'BPXSY1':125.63,\n",
    "          \"DMDEDUC2\": 1, \"RIDRETH1\": 1, \"RIDRETH1x\": 'MexAmer',\n",
    "          \"SMQ020\": 1}\n",
    "\n",
    "# The returned values are the predicted values (pr), the confidence bands (cb),\n",
    "# and the function values (fv).\n",
    "pr2, cb2, fv2 = predict_functional(result2, \"RIDAGEYR\",\n",
    "                values=values2, ci_method=\"simultaneous\")\n",
    "\n",
    "ax = sns.lineplot(fv2, pr2, lw=4)\n",
    "ax.fill_between(fv2, cb2[:, 0], cb2[:, 1], color='green', alpha=0.4)"
   ]
  },
  {
   "cell_type": "markdown",
   "metadata": {},
   "source": [
    "__Q5a.__ According to your graph, what is the longest interval starting at year 30 following which the mean BMI could be constant?  *Hint:* What is the longest horizontal line starting at age 30 that remains within the confidence band?"
   ]
  },
  {
   "cell_type": "markdown",
   "metadata": {},
   "source": []
  },
  {
   "cell_type": "markdown",
   "metadata": {},
   "source": [
    "__Q5b.__ Add an additional line and confidence band to the same plot, showing the relationship between age and BMI for Mexican American women.  At what ages do these intervals not overlap?"
   ]
  },
  {
   "cell_type": "markdown",
   "metadata": {},
   "source": []
  },
  {
   "cell_type": "markdown",
   "metadata": {},
   "source": [
    "## Question 6:\n",
    "\n",
    "Use an added variable plot to assess the linearity of the relationship between BMI and age (when controlling for gender and ethnicity)."
   ]
  },
  {
   "cell_type": "code",
   "execution_count": 29,
   "metadata": {},
   "outputs": [
    {
     "data": {
      "image/png": "[encoded data removed]",
      "text/plain": [
       "<Figure size 432x288 with 1 Axes>"
      ]
     },
     "metadata": {
      "needs_background": "light"
     },
     "output_type": "display_data"
    }
   ],
   "source": [
    "# enter your code here\n",
    "# This is not part of the main Statsmodels API, so needs to be imported separately\n",
    "from statsmodels.graphics.regressionplots import add_lowess\n",
    "\n",
    "# This is an equivalent way to fit a linear regression model, it needs to be\n",
    "# done this way to be able to make the added variable plot\n",
    "model = sm.GLM.from_formula(\"BMXBMI ~ RIDAGEYR + RIDRETH1x + RIAGENDRx\", data=da)\n",
    "result = model.fit()\n",
    "result.summary()\n",
    "\n",
    "fig = result.plot_added_variable(\"RIDAGEYR\")\n",
    "ax = fig.get_axes()[0]\n",
    "ax.lines[0].set_alpha(0.2)\n",
    "_ = add_lowess(ax)"
   ]
  },
  {
   "cell_type": "markdown",
   "metadata": {},
   "source": [
    "__Q6a.__ What is your interpretation of the added variable plot?"
   ]
  },
  {
   "cell_type": "code",
   "execution_count": 30,
   "metadata": {},
   "outputs": [
    {
     "data": {
      "text/plain": [
       "20"
      ]
     },
     "execution_count": 30,
     "metadata": {},
     "output_type": "execute_result"
    }
   ],
   "source": [
    "da.RIDAGEYR.min()"
   ]
  },
  {
   "cell_type": "markdown",
   "metadata": {},
   "source": [
    "BMI increases faster for the first 15 years of age (so from 20yrs to 35yrs) after that it seems to remain flat to maybe slightly decreasing for the next 35 years (35 to 70 years) where then there seems to be a decreasing trend"
   ]
  },
  {
   "cell_type": "markdown",
   "metadata": {},
   "source": [
    "## Question 7: \n",
    "\n",
    "Generate a binary variable reflecting whether a person has had at least 12 drinks in their lifetime, based on the [ALQ110](https://wwwn.cdc.gov/Nchs/Nhanes/2015-2016/ALQ_I.htm#ALQ110) variable in NHANES.  Calculate the marginal probability, odds, and log odds of this variable for women and for men.  Then calculate the odds ratio for females relative to males."
   ]
  },
  {
   "cell_type": "code",
   "execution_count": 42,
   "metadata": {},
   "outputs": [],
   "source": [
    "url = \"https://raw.githubusercontent.com/kshedden/statswpy/master/NHANES/merged/nhanes_2015_2016.csv\"\n",
    "da = pd.read_csv(url)\n",
    "\n",
    "# Drop unused columns, drop rows with any missing values.\n",
    "vars = [\"BPXSY1\", \"RIDAGEYR\", \"RIAGENDR\", \"RIDRETH1\", \"DMDEDUC2\", \n",
    "        \"BMXBMI\", \"SMQ020\", 'ALQ110']\n",
    "da = da[vars].dropna()\n",
    "\n",
    "#recodeing ethnic groups\n",
    "da['RIDRETH1x'] = da.RIDRETH1.replace({1:'MexAmer', 2:\"OtherHisp\",\n",
    "                                      3:\"White\", 4:\"Black\", 5:'Other'})\n",
    "da['RIAGENDRx'] = da.RIAGENDR.replace({1:'Male', 2:\"Female\"})"
   ]
  },
  {
   "cell_type": "code",
   "execution_count": 43,
   "metadata": {},
   "outputs": [
    {
     "data": {
      "text/plain": [
       "1473"
      ]
     },
     "execution_count": 43,
     "metadata": {},
     "output_type": "execute_result"
    }
   ],
   "source": [
    "da.ALQ110.size"
   ]
  },
  {
   "cell_type": "code",
   "execution_count": 47,
   "metadata": {},
   "outputs": [],
   "source": [
    "# enter your code here\n",
    "da['alc12'] = da.ALQ110.replace({2:0, 7:np.nan, 9:np.nan})"
   ]
  },
  {
   "cell_type": "code",
   "execution_count": 49,
   "metadata": {},
   "outputs": [
    {
     "data": {
      "text/html": [
       "<div>\n",
       "<style scoped>\n",
       "    .dataframe tbody tr th:only-of-type {\n",
       "        vertical-align: middle;\n",
       "    }\n",
       "\n",
       "    .dataframe tbody tr th {\n",
       "        vertical-align: top;\n",
       "    }\n",
       "\n",
       "    .dataframe thead th {\n",
       "        text-align: right;\n",
       "    }\n",
       "</style>\n",
       "<table border=\"1\" class=\"dataframe\">\n",
       "  <thead>\n",
       "    <tr style=\"text-align: right;\">\n",
       "      <th>alc12</th>\n",
       "      <th>0.0</th>\n",
       "      <th>1.0</th>\n",
       "    </tr>\n",
       "    <tr>\n",
       "      <th>RIAGENDRx</th>\n",
       "      <th></th>\n",
       "      <th></th>\n",
       "    </tr>\n",
       "  </thead>\n",
       "  <tbody>\n",
       "    <tr>\n",
       "      <th>Female</th>\n",
       "      <td>569</td>\n",
       "      <td>467</td>\n",
       "    </tr>\n",
       "    <tr>\n",
       "      <th>Male</th>\n",
       "      <td>232</td>\n",
       "      <td>200</td>\n",
       "    </tr>\n",
       "  </tbody>\n",
       "</table>\n",
       "</div>"
      ],
      "text/plain": [
       "alc12      0.0  1.0\n",
       "RIAGENDRx          \n",
       "Female     569  467\n",
       "Male       232  200"
      ]
     },
     "execution_count": 49,
     "metadata": {},
     "output_type": "execute_result"
    }
   ],
   "source": [
    "#create crosstab (of counts)\n",
    "c = pd.crosstab(da.RIAGENDRx, da.alc12)\n",
    "c"
   ]
  },
  {
   "cell_type": "code",
   "execution_count": 51,
   "metadata": {},
   "outputs": [
    {
     "data": {
      "text/html": [
       "<div>\n",
       "<style scoped>\n",
       "    .dataframe tbody tr th:only-of-type {\n",
       "        vertical-align: middle;\n",
       "    }\n",
       "\n",
       "    .dataframe tbody tr th {\n",
       "        vertical-align: top;\n",
       "    }\n",
       "\n",
       "    .dataframe thead th {\n",
       "        text-align: right;\n",
       "    }\n",
       "</style>\n",
       "<table border=\"1\" class=\"dataframe\">\n",
       "  <thead>\n",
       "    <tr style=\"text-align: right;\">\n",
       "      <th>alc12</th>\n",
       "      <th>0.0</th>\n",
       "      <th>1.0</th>\n",
       "    </tr>\n",
       "    <tr>\n",
       "      <th>RIAGENDRx</th>\n",
       "      <th></th>\n",
       "      <th></th>\n",
       "    </tr>\n",
       "  </thead>\n",
       "  <tbody>\n",
       "    <tr>\n",
       "      <th>Female</th>\n",
       "      <td>0.549228</td>\n",
       "      <td>0.450772</td>\n",
       "    </tr>\n",
       "    <tr>\n",
       "      <th>Male</th>\n",
       "      <td>0.537037</td>\n",
       "      <td>0.462963</td>\n",
       "    </tr>\n",
       "  </tbody>\n",
       "</table>\n",
       "</div>"
      ],
      "text/plain": [
       "alc12           0.0       1.0\n",
       "RIAGENDRx                    \n",
       "Female     0.549228  0.450772\n",
       "Male       0.537037  0.462963"
      ]
     },
     "execution_count": 51,
     "metadata": {},
     "output_type": "execute_result"
    }
   ],
   "source": [
    "#normalize crosstab to create proabilities\n",
    "c = c.apply(lambda x: x/x.sum(), axis = 1)\n",
    "c"
   ]
  },
  {
   "cell_type": "code",
   "execution_count": 53,
   "metadata": {},
   "outputs": [
    {
     "data": {
      "text/html": [
       "<div>\n",
       "<style scoped>\n",
       "    .dataframe tbody tr th:only-of-type {\n",
       "        vertical-align: middle;\n",
       "    }\n",
       "\n",
       "    .dataframe tbody tr th {\n",
       "        vertical-align: top;\n",
       "    }\n",
       "\n",
       "    .dataframe thead th {\n",
       "        text-align: right;\n",
       "    }\n",
       "</style>\n",
       "<table border=\"1\" class=\"dataframe\">\n",
       "  <thead>\n",
       "    <tr style=\"text-align: right;\">\n",
       "      <th>alc12</th>\n",
       "      <th>0.0</th>\n",
       "      <th>1.0</th>\n",
       "      <th>odds</th>\n",
       "    </tr>\n",
       "    <tr>\n",
       "      <th>RIAGENDRx</th>\n",
       "      <th></th>\n",
       "      <th></th>\n",
       "      <th></th>\n",
       "    </tr>\n",
       "  </thead>\n",
       "  <tbody>\n",
       "    <tr>\n",
       "      <th>Female</th>\n",
       "      <td>0.549228</td>\n",
       "      <td>0.450772</td>\n",
       "      <td>1.218415</td>\n",
       "    </tr>\n",
       "    <tr>\n",
       "      <th>Male</th>\n",
       "      <td>0.537037</td>\n",
       "      <td>0.462963</td>\n",
       "      <td>1.160000</td>\n",
       "    </tr>\n",
       "  </tbody>\n",
       "</table>\n",
       "</div>"
      ],
      "text/plain": [
       "alc12           0.0       1.0      odds\n",
       "RIAGENDRx                              \n",
       "Female     0.549228  0.450772  1.218415\n",
       "Male       0.537037  0.462963  1.160000"
      ]
     },
     "execution_count": 53,
     "metadata": {},
     "output_type": "execute_result"
    }
   ],
   "source": [
    "#create odds column\n",
    "c['odds'] = c.loc[:,0]/c.loc[:,1]\n",
    "c"
   ]
  },
  {
   "cell_type": "code",
   "execution_count": 55,
   "metadata": {},
   "outputs": [
    {
     "data": {
      "text/plain": [
       "1.0503581185852469"
      ]
     },
     "execution_count": 55,
     "metadata": {},
     "output_type": "execute_result"
    }
   ],
   "source": [
    "c.odds.Female/c.odds.Male"
   ]
  },
  {
   "cell_type": "code",
   "execution_count": 56,
   "metadata": {},
   "outputs": [
    {
     "data": {
      "text/html": [
       "<div>\n",
       "<style scoped>\n",
       "    .dataframe tbody tr th:only-of-type {\n",
       "        vertical-align: middle;\n",
       "    }\n",
       "\n",
       "    .dataframe tbody tr th {\n",
       "        vertical-align: top;\n",
       "    }\n",
       "\n",
       "    .dataframe thead th {\n",
       "        text-align: right;\n",
       "    }\n",
       "</style>\n",
       "<table border=\"1\" class=\"dataframe\">\n",
       "  <thead>\n",
       "    <tr style=\"text-align: right;\">\n",
       "      <th>alc12</th>\n",
       "      <th>0.0</th>\n",
       "      <th>1.0</th>\n",
       "      <th>odds</th>\n",
       "      <th>logodds</th>\n",
       "    </tr>\n",
       "    <tr>\n",
       "      <th>RIAGENDRx</th>\n",
       "      <th></th>\n",
       "      <th></th>\n",
       "      <th></th>\n",
       "      <th></th>\n",
       "    </tr>\n",
       "  </thead>\n",
       "  <tbody>\n",
       "    <tr>\n",
       "      <th>Female</th>\n",
       "      <td>0.549228</td>\n",
       "      <td>0.450772</td>\n",
       "      <td>1.218415</td>\n",
       "      <td>0.197551</td>\n",
       "    </tr>\n",
       "    <tr>\n",
       "      <th>Male</th>\n",
       "      <td>0.537037</td>\n",
       "      <td>0.462963</td>\n",
       "      <td>1.160000</td>\n",
       "      <td>0.148420</td>\n",
       "    </tr>\n",
       "  </tbody>\n",
       "</table>\n",
       "</div>"
      ],
      "text/plain": [
       "alc12           0.0       1.0      odds   logodds\n",
       "RIAGENDRx                                        \n",
       "Female     0.549228  0.450772  1.218415  0.197551\n",
       "Male       0.537037  0.462963  1.160000  0.148420"
      ]
     },
     "execution_count": 56,
     "metadata": {},
     "output_type": "execute_result"
    }
   ],
   "source": [
    "c['logodds'] = np.log(c.odds)\n",
    "c"
   ]
  },
  {
   "cell_type": "markdown",
   "metadata": {},
   "source": [
    "__Q7a.__ Based on the log odds alone, do more than 50% of women drink alcohol?"
   ]
  },
  {
   "cell_type": "markdown",
   "metadata": {},
   "source": [
    "no"
   ]
  },
  {
   "cell_type": "markdown",
   "metadata": {},
   "source": [
    "__Q7b.__ Does there appear to be an important difference between the alcohol use rate of women and men?"
   ]
  },
  {
   "cell_type": "markdown",
   "metadata": {},
   "source": [
    "the are nearly the same, yet it is more likely that women drink than men"
   ]
  },
  {
   "cell_type": "markdown",
   "metadata": {},
   "source": [
    "## Question 8: \n",
    "\n",
    "Use logistic regression to express the log odds that a person drinks (based on the binary drinking variable that you constructed above) in terms of gender."
   ]
  },
  {
   "cell_type": "code",
   "execution_count": 57,
   "metadata": {},
   "outputs": [
    {
     "data": {
      "text/html": [
       "<table class=\"simpletable\">\n",
       "<caption>Generalized Linear Model Regression Results</caption>\n",
       "<tr>\n",
       "  <th>Dep. Variable:</th>         <td>alc12</td>      <th>  No. Observations:  </th>  <td>  1468</td> \n",
       "</tr>\n",
       "<tr>\n",
       "  <th>Model:</th>                  <td>GLM</td>       <th>  Df Residuals:      </th>  <td>  1466</td> \n",
       "</tr>\n",
       "<tr>\n",
       "  <th>Model Family:</th>        <td>Binomial</td>     <th>  Df Model:          </th>  <td>     1</td> \n",
       "</tr>\n",
       "<tr>\n",
       "  <th>Link Function:</th>         <td>logit</td>      <th>  Scale:             </th> <td>  1.0000</td>\n",
       "</tr>\n",
       "<tr>\n",
       "  <th>Method:</th>                <td>IRLS</td>       <th>  Log-Likelihood:    </th> <td> -1011.3</td>\n",
       "</tr>\n",
       "<tr>\n",
       "  <th>Date:</th>            <td>Wed, 07 Oct 2020</td> <th>  Deviance:          </th> <td>  2022.6</td>\n",
       "</tr>\n",
       "<tr>\n",
       "  <th>Time:</th>                <td>13:45:53</td>     <th>  Pearson chi2:      </th> <td>1.47e+03</td>\n",
       "</tr>\n",
       "<tr>\n",
       "  <th>No. Iterations:</th>          <td>4</td>        <th>                     </th>     <td> </td>   \n",
       "</tr>\n",
       "<tr>\n",
       "  <th>Covariance Type:</th>     <td>nonrobust</td>    <th>                     </th>     <td> </td>   \n",
       "</tr>\n",
       "</table>\n",
       "<table class=\"simpletable\">\n",
       "<tr>\n",
       "          <td></td>             <th>coef</th>     <th>std err</th>      <th>z</th>      <th>P>|z|</th>  <th>[0.025</th>    <th>0.975]</th>  \n",
       "</tr>\n",
       "<tr>\n",
       "  <th>Intercept</th>         <td>   -0.1976</td> <td>    0.062</td> <td>   -3.164</td> <td> 0.002</td> <td>   -0.320</td> <td>   -0.075</td>\n",
       "</tr>\n",
       "<tr>\n",
       "  <th>RIAGENDRx[T.Male]</th> <td>    0.0491</td> <td>    0.115</td> <td>    0.427</td> <td> 0.669</td> <td>   -0.176</td> <td>    0.274</td>\n",
       "</tr>\n",
       "</table>"
      ],
      "text/plain": [
       "<class 'statsmodels.iolib.summary.Summary'>\n",
       "\"\"\"\n",
       "                 Generalized Linear Model Regression Results                  \n",
       "==============================================================================\n",
       "Dep. Variable:                  alc12   No. Observations:                 1468\n",
       "Model:                            GLM   Df Residuals:                     1466\n",
       "Model Family:                Binomial   Df Model:                            1\n",
       "Link Function:                  logit   Scale:                          1.0000\n",
       "Method:                          IRLS   Log-Likelihood:                -1011.3\n",
       "Date:                Wed, 07 Oct 2020   Deviance:                       2022.6\n",
       "Time:                        13:45:53   Pearson chi2:                 1.47e+03\n",
       "No. Iterations:                     4                                         \n",
       "Covariance Type:            nonrobust                                         \n",
       "=====================================================================================\n",
       "                        coef    std err          z      P>|z|      [0.025      0.975]\n",
       "-------------------------------------------------------------------------------------\n",
       "Intercept            -0.1976      0.062     -3.164      0.002      -0.320      -0.075\n",
       "RIAGENDRx[T.Male]     0.0491      0.115      0.427      0.669      -0.176       0.274\n",
       "=====================================================================================\n",
       "\"\"\""
      ]
     },
     "execution_count": 57,
     "metadata": {},
     "output_type": "execute_result"
    }
   ],
   "source": [
    "# enter your code here\n",
    "model = sm.GLM.from_formula('alc12~RIAGENDRx', family = sm.families.Binomial(), data = da)\n",
    "results = model.fit()\n",
    "results.summary()"
   ]
  },
  {
   "cell_type": "markdown",
   "metadata": {},
   "source": [
    "__Q8a.__ Is there statistical evidence that the drinking rate differs between women and men?  If so, in what direction is there a difference?"
   ]
  },
  {
   "cell_type": "markdown",
   "metadata": {},
   "source": [
    "there is no statistical evidence to support that drinking rates differ"
   ]
  },
  {
   "cell_type": "markdown",
   "metadata": {},
   "source": [
    "__Q8b.__ Confirm that the log odds ratio between drinking and smoking calculated using the logistic regression model matches the log odds ratio calculated directly in question 6."
   ]
  },
  {
   "cell_type": "markdown",
   "metadata": {},
   "source": []
  },
  {
   "cell_type": "markdown",
   "metadata": {},
   "source": [
    "## Question 9: \n",
    "\n",
    "Use logistic regression to relate drinking to age, gender, and education."
   ]
  },
  {
   "cell_type": "code",
   "execution_count": 58,
   "metadata": {},
   "outputs": [],
   "source": [
    "#create education variable\n",
    "da[\"DMDEDUC2x\"] = da.DMDEDUC2.replace({1: \"lt9\", 2: \"x9_11\", 3: \"HS\", 4: \"SomeCollege\",\n",
    "                                       5: \"College\", 7: np.nan, 9: np.nan})"
   ]
  },
  {
   "cell_type": "code",
   "execution_count": 59,
   "metadata": {},
   "outputs": [
    {
     "data": {
      "text/html": [
       "<table class=\"simpletable\">\n",
       "<caption>Generalized Linear Model Regression Results</caption>\n",
       "<tr>\n",
       "  <th>Dep. Variable:</th>         <td>alc12</td>      <th>  No. Observations:  </th>  <td>  1467</td> \n",
       "</tr>\n",
       "<tr>\n",
       "  <th>Model:</th>                  <td>GLM</td>       <th>  Df Residuals:      </th>  <td>  1460</td> \n",
       "</tr>\n",
       "<tr>\n",
       "  <th>Model Family:</th>        <td>Binomial</td>     <th>  Df Model:          </th>  <td>     6</td> \n",
       "</tr>\n",
       "<tr>\n",
       "  <th>Link Function:</th>         <td>logit</td>      <th>  Scale:             </th> <td>  1.0000</td>\n",
       "</tr>\n",
       "<tr>\n",
       "  <th>Method:</th>                <td>IRLS</td>       <th>  Log-Likelihood:    </th> <td> -987.65</td>\n",
       "</tr>\n",
       "<tr>\n",
       "  <th>Date:</th>            <td>Wed, 07 Oct 2020</td> <th>  Deviance:          </th> <td>  1975.3</td>\n",
       "</tr>\n",
       "<tr>\n",
       "  <th>Time:</th>                <td>13:55:35</td>     <th>  Pearson chi2:      </th> <td>1.47e+03</td>\n",
       "</tr>\n",
       "<tr>\n",
       "  <th>No. Iterations:</th>          <td>4</td>        <th>                     </th>     <td> </td>   \n",
       "</tr>\n",
       "<tr>\n",
       "  <th>Covariance Type:</th>     <td>nonrobust</td>    <th>                     </th>     <td> </td>   \n",
       "</tr>\n",
       "</table>\n",
       "<table class=\"simpletable\">\n",
       "<tr>\n",
       "              <td></td>                <th>coef</th>     <th>std err</th>      <th>z</th>      <th>P>|z|</th>  <th>[0.025</th>    <th>0.975]</th>  \n",
       "</tr>\n",
       "<tr>\n",
       "  <th>Intercept</th>                <td>   -0.4849</td> <td>    0.193</td> <td>   -2.519</td> <td> 0.012</td> <td>   -0.862</td> <td>   -0.108</td>\n",
       "</tr>\n",
       "<tr>\n",
       "  <th>RIAGENDRx[T.Male]</th>        <td>    0.0313</td> <td>    0.117</td> <td>    0.267</td> <td> 0.789</td> <td>   -0.198</td> <td>    0.261</td>\n",
       "</tr>\n",
       "<tr>\n",
       "  <th>DMDEDUC2x[T.HS]</th>          <td>   -0.0278</td> <td>    0.163</td> <td>   -0.170</td> <td> 0.865</td> <td>   -0.348</td> <td>    0.292</td>\n",
       "</tr>\n",
       "<tr>\n",
       "  <th>DMDEDUC2x[T.SomeCollege]</th> <td>    0.1147</td> <td>    0.152</td> <td>    0.756</td> <td> 0.450</td> <td>   -0.183</td> <td>    0.412</td>\n",
       "</tr>\n",
       "<tr>\n",
       "  <th>DMDEDUC2x[T.lt9]</th>         <td>   -0.8479</td> <td>    0.176</td> <td>   -4.814</td> <td> 0.000</td> <td>   -1.193</td> <td>   -0.503</td>\n",
       "</tr>\n",
       "<tr>\n",
       "  <th>DMDEDUC2x[T.x9_11]</th>       <td>   -0.4496</td> <td>    0.190</td> <td>   -2.367</td> <td> 0.018</td> <td>   -0.822</td> <td>   -0.077</td>\n",
       "</tr>\n",
       "<tr>\n",
       "  <th>RIDAGEYR</th>                 <td>    0.0090</td> <td>    0.003</td> <td>    2.975</td> <td> 0.003</td> <td>    0.003</td> <td>    0.015</td>\n",
       "</tr>\n",
       "</table>"
      ],
      "text/plain": [
       "<class 'statsmodels.iolib.summary.Summary'>\n",
       "\"\"\"\n",
       "                 Generalized Linear Model Regression Results                  \n",
       "==============================================================================\n",
       "Dep. Variable:                  alc12   No. Observations:                 1467\n",
       "Model:                            GLM   Df Residuals:                     1460\n",
       "Model Family:                Binomial   Df Model:                            6\n",
       "Link Function:                  logit   Scale:                          1.0000\n",
       "Method:                          IRLS   Log-Likelihood:                -987.65\n",
       "Date:                Wed, 07 Oct 2020   Deviance:                       1975.3\n",
       "Time:                        13:55:35   Pearson chi2:                 1.47e+03\n",
       "No. Iterations:                     4                                         \n",
       "Covariance Type:            nonrobust                                         \n",
       "============================================================================================\n",
       "                               coef    std err          z      P>|z|      [0.025      0.975]\n",
       "--------------------------------------------------------------------------------------------\n",
       "Intercept                   -0.4849      0.193     -2.519      0.012      -0.862      -0.108\n",
       "RIAGENDRx[T.Male]            0.0313      0.117      0.267      0.789      -0.198       0.261\n",
       "DMDEDUC2x[T.HS]             -0.0278      0.163     -0.170      0.865      -0.348       0.292\n",
       "DMDEDUC2x[T.SomeCollege]     0.1147      0.152      0.756      0.450      -0.183       0.412\n",
       "DMDEDUC2x[T.lt9]            -0.8479      0.176     -4.814      0.000      -1.193      -0.503\n",
       "DMDEDUC2x[T.x9_11]          -0.4496      0.190     -2.367      0.018      -0.822      -0.077\n",
       "RIDAGEYR                     0.0090      0.003      2.975      0.003       0.003       0.015\n",
       "============================================================================================\n",
       "\"\"\""
      ]
     },
     "execution_count": 59,
     "metadata": {},
     "output_type": "execute_result"
    }
   ],
   "source": [
    "# enter your code here\n",
    "model2 = sm.GLM.from_formula('alc12 ~ RIDAGEYR + RIAGENDRx + DMDEDUC2x', family = sm.families.Binomial(), data = da)\n",
    "result2 = model2.fit()\n",
    "result2.summary()"
   ]
  },
  {
   "cell_type": "markdown",
   "metadata": {},
   "source": [
    "__Q9a.__ Which of these predictor variables shows a statistically significant association with drinking?"
   ]
  },
  {
   "cell_type": "markdown",
   "metadata": {},
   "source": [
    "at a significance level of \\\\(\\alpha\\\\) = 0.05, age, education at less than 9 years, and 9-11 years"
   ]
  },
  {
   "cell_type": "markdown",
   "metadata": {},
   "source": [
    "__Q9b.__ What is the odds of a college educated, 50 year old woman drinking?"
   ]
  },
  {
   "cell_type": "code",
   "execution_count": 60,
   "metadata": {},
   "outputs": [
    {
     "data": {
      "text/plain": [
       "-0.034199548449017514"
      ]
     },
     "execution_count": 60,
     "metadata": {},
     "output_type": "execute_result"
    }
   ],
   "source": [
    "logodds = result2.params[0] + result2.params[6]*50\n",
    "logodds"
   ]
  },
  {
   "cell_type": "code",
   "execution_count": 61,
   "metadata": {},
   "outputs": [
    {
     "data": {
      "text/plain": [
       "0.9663786460358491"
      ]
     },
     "execution_count": 61,
     "metadata": {},
     "output_type": "execute_result"
    }
   ],
   "source": [
    "odds = np.exp(logodds)\n",
    "odds"
   ]
  },
  {
   "cell_type": "markdown",
   "metadata": {},
   "source": [
    "__Q9c.__ What is the odds ratio between the drinking status for college graduates and high school graduates (with no college), holding gender and age fixed?"
   ]
  },
  {
   "cell_type": "code",
   "execution_count": 63,
   "metadata": {},
   "outputs": [
    {
     "data": {
      "text/plain": [
       "1.0282054968791363"
      ]
     },
     "execution_count": 63,
     "metadata": {},
     "output_type": "execute_result"
    }
   ],
   "source": [
    "collegeLog = result2.params[0]\n",
    "collegeOdds = np.exp(collegeLog)\n",
    "\n",
    "highLog = result2.params[0] + result2.params[2]*1\n",
    "highOdds = np.exp(highLog)\n",
    "\n",
    "oddRatio = collegeOdds/highOdds\n",
    "oddRatio"
   ]
  },
  {
   "cell_type": "markdown",
   "metadata": {},
   "source": [
    "__Q9d.__ Did the regression parameter for gender change to a meaningful degree when age and education were added to the model?"
   ]
  },
  {
   "cell_type": "markdown",
   "metadata": {},
   "source": [
    "coefficient decreased a bit"
   ]
  },
  {
   "cell_type": "markdown",
   "metadata": {},
   "source": [
    "## Question 10:\n",
    "\n",
    "Construct a CERES plot for the relationship between drinking and age (using the model that controls for gender and educational attainment)."
   ]
  },
  {
   "cell_type": "code",
   "execution_count": 64,
   "metadata": {},
   "outputs": [
    {
     "data": {
      "image/png": "[encoded data removed]",
      "text/plain": [
       "<Figure size 432x288 with 1 Axes>"
      ]
     },
     "metadata": {
      "needs_background": "light"
     },
     "output_type": "display_data"
    }
   ],
   "source": [
    "# enter your code here\n",
    "fig = result2.plot_ceres_residuals(\"RIDAGEYR\")\n",
    "ax = fig.get_axes()[0]\n",
    "ax.lines[0].set_alpha(0.2)\n",
    "_ = add_lowess(ax)"
   ]
  },
  {
   "cell_type": "markdown",
   "metadata": {},
   "source": [
    "__Q10a.__ Does the plot indicate any major non-linearity in the relationship between age and the log odds for drinking?"
   ]
  },
  {
   "cell_type": "markdown",
   "metadata": {},
   "source": [
    "the plot suggests that the odds for drinking rises from 20 to about 55 years of age and then drops from 55 to 65 befor another rise between 65 and 70"
   ]
  },
  {
   "cell_type": "code",
   "execution_count": null,
   "metadata": {},
   "outputs": [],
   "source": []
  }
 ],
 "metadata": {
  "kernelspec": {
   "display_name": "Python 3",
   "language": "python",
   "name": "python3"
  },
  "language_info": {
   "codemirror_mode": {
    "name": "ipython",
    "version": 3
   },
   "file_extension": ".py",
   "mimetype": "text/x-python",
   "name": "python",
   "nbconvert_exporter": "python",
   "pygments_lexer": "ipython3",
   "version": "3.8.5"
  }
 },
 "nbformat": 4,
 "nbformat_minor": 1
}
